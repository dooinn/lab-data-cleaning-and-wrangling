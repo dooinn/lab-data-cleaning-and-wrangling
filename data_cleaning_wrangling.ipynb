{
 "cells": [
  {
   "cell_type": "markdown",
   "metadata": {},
   "source": [
    "# Lab | Data cleaning and wrangling\n",
    "For this lab, we will be using the same dataset we used in the previous labs. We recommend using the same notebook since you will be reusing the same variables you previous created and used in labs.\n",
    "\n",
    "## Instructions\n",
    "So far we have worked on EDA. This lab will focus on data cleaning and wrangling from everything we noticed before.\n",
    "\n",
    "1. We will start with removing outliers. So far, we have discussed different methods to remove outliers. Use the one you feel more comfortable with, define a function for that. Use the function to remove the outliers and apply it to the dataframe.\n",
    "2. Create a copy of the dataframe for the data wrangling.\n",
    "3. Normalize the continuous variables. You can use any one method you want.\n",
    "4. Encode the categorical variables\n",
    "5. The time variable can be useful. Try to transform its data into a useful one. Hint: Day week and month as integers might be useful.\n",
    "6. Since the model will only accept numerical data, check and make sure that every column is numerical, if some are not, change it using encoding."
   ]
  },
  {
   "cell_type": "code",
   "execution_count": 44,
   "metadata": {},
   "outputs": [],
   "source": [
    "import pandas as pd\n",
    "import seaborn as sns\n",
    "import matplotlib.pyplot as plt\n",
    "from sklearn.preprocessing import StandardScaler\n",
    "import numpy as np\n",
    "import statsmodels.api as sm\n",
    "from statsmodels.formula.api import ols\n",
    "from sklearn.linear_model import LinearRegression\n",
    "from sklearn.metrics import mean_squared_error, r2_score, mean_absolute_error\n",
    "from sklearn.model_selection import train_test_split"
   ]
  },
  {
   "cell_type": "code",
   "execution_count": 45,
   "metadata": {},
   "outputs": [],
   "source": [
    "customer_df  = pd.read_csv('/Users/dooinnkim/ironhack_da_may_2023/machine-learning/lab-cleaning-numerical-data/files_for_lab/we_fn_use_c_marketing_customer_value_analysis.csv')"
   ]
  },
  {
   "cell_type": "code",
   "execution_count": 46,
   "metadata": {},
   "outputs": [
    {
     "data": {
      "text/plain": [
       "(9134, 24)"
      ]
     },
     "execution_count": 46,
     "metadata": {},
     "output_type": "execute_result"
    }
   ],
   "source": [
    "customer_df.shape"
   ]
  },
  {
   "cell_type": "markdown",
   "metadata": {},
   "source": [
    "### 1. We will start with removing outliers. So far, we have discussed different methods to remove outliers. Use the one you feel more comfortable with, define a function for that. Use the function to remove the outliers and apply it to the dataframe."
   ]
  },
  {
   "cell_type": "code",
   "execution_count": 47,
   "metadata": {},
   "outputs": [],
   "source": [
    "def remove_outliers(df, column):\n",
    "    Q1 = df[column].quantile(0.25)\n",
    "    Q3 = df[column].quantile(0.75)\n",
    "    IQR = Q3 - Q1\n",
    "\n",
    "    lower_limit = Q1 - 1.5*IQR\n",
    "    upper_limit = Q3 + 1.5*IQR\n",
    "\n",
    "    return df[(df[column] >= lower_limit) & (df[column] <= upper_limit)]\n",
    "\n",
    "numerical_cols = customer_df.select_dtypes(include=['int64', 'float64']).columns\n",
    "\n",
    "for col in numerical_cols:\n",
    "    customer_df = remove_outliers(customer_df, col)\n"
   ]
  },
  {
   "cell_type": "code",
   "execution_count": 48,
   "metadata": {},
   "outputs": [
    {
     "data": {
      "text/plain": [
       "(5888, 24)"
      ]
     },
     "execution_count": 48,
     "metadata": {},
     "output_type": "execute_result"
    }
   ],
   "source": [
    "customer_df.shape"
   ]
  },
  {
   "cell_type": "markdown",
   "metadata": {},
   "source": [
    "### 2. Create a copy of the dataframe for the data wrangling."
   ]
  },
  {
   "cell_type": "code",
   "execution_count": 49,
   "metadata": {},
   "outputs": [],
   "source": [
    "df_wrangling = customer_df.copy()"
   ]
  },
  {
   "cell_type": "code",
   "execution_count": 50,
   "metadata": {},
   "outputs": [
    {
     "data": {
      "text/html": [
       "<div>\n",
       "<style scoped>\n",
       "    .dataframe tbody tr th:only-of-type {\n",
       "        vertical-align: middle;\n",
       "    }\n",
       "\n",
       "    .dataframe tbody tr th {\n",
       "        vertical-align: top;\n",
       "    }\n",
       "\n",
       "    .dataframe thead th {\n",
       "        text-align: right;\n",
       "    }\n",
       "</style>\n",
       "<table border=\"1\" class=\"dataframe\">\n",
       "  <thead>\n",
       "    <tr style=\"text-align: right;\">\n",
       "      <th></th>\n",
       "      <th>Customer</th>\n",
       "      <th>State</th>\n",
       "      <th>Customer Lifetime Value</th>\n",
       "      <th>Response</th>\n",
       "      <th>Coverage</th>\n",
       "      <th>Education</th>\n",
       "      <th>Effective To Date</th>\n",
       "      <th>EmploymentStatus</th>\n",
       "      <th>Gender</th>\n",
       "      <th>Income</th>\n",
       "      <th>...</th>\n",
       "      <th>Months Since Policy Inception</th>\n",
       "      <th>Number of Open Complaints</th>\n",
       "      <th>Number of Policies</th>\n",
       "      <th>Policy Type</th>\n",
       "      <th>Policy</th>\n",
       "      <th>Renew Offer Type</th>\n",
       "      <th>Sales Channel</th>\n",
       "      <th>Total Claim Amount</th>\n",
       "      <th>Vehicle Class</th>\n",
       "      <th>Vehicle Size</th>\n",
       "    </tr>\n",
       "  </thead>\n",
       "  <tbody>\n",
       "    <tr>\n",
       "      <th>0</th>\n",
       "      <td>BU79786</td>\n",
       "      <td>Washington</td>\n",
       "      <td>2763.519279</td>\n",
       "      <td>No</td>\n",
       "      <td>Basic</td>\n",
       "      <td>Bachelor</td>\n",
       "      <td>2/24/11</td>\n",
       "      <td>Employed</td>\n",
       "      <td>F</td>\n",
       "      <td>56274</td>\n",
       "      <td>...</td>\n",
       "      <td>5</td>\n",
       "      <td>0</td>\n",
       "      <td>1</td>\n",
       "      <td>Corporate Auto</td>\n",
       "      <td>Corporate L3</td>\n",
       "      <td>Offer1</td>\n",
       "      <td>Agent</td>\n",
       "      <td>384.811147</td>\n",
       "      <td>Two-Door Car</td>\n",
       "      <td>Medsize</td>\n",
       "    </tr>\n",
       "    <tr>\n",
       "      <th>2</th>\n",
       "      <td>AI49188</td>\n",
       "      <td>Nevada</td>\n",
       "      <td>12887.431650</td>\n",
       "      <td>No</td>\n",
       "      <td>Premium</td>\n",
       "      <td>Bachelor</td>\n",
       "      <td>2/19/11</td>\n",
       "      <td>Employed</td>\n",
       "      <td>F</td>\n",
       "      <td>48767</td>\n",
       "      <td>...</td>\n",
       "      <td>38</td>\n",
       "      <td>0</td>\n",
       "      <td>2</td>\n",
       "      <td>Personal Auto</td>\n",
       "      <td>Personal L3</td>\n",
       "      <td>Offer1</td>\n",
       "      <td>Agent</td>\n",
       "      <td>566.472247</td>\n",
       "      <td>Two-Door Car</td>\n",
       "      <td>Medsize</td>\n",
       "    </tr>\n",
       "    <tr>\n",
       "      <th>3</th>\n",
       "      <td>WW63253</td>\n",
       "      <td>California</td>\n",
       "      <td>7645.861827</td>\n",
       "      <td>No</td>\n",
       "      <td>Basic</td>\n",
       "      <td>Bachelor</td>\n",
       "      <td>1/20/11</td>\n",
       "      <td>Unemployed</td>\n",
       "      <td>M</td>\n",
       "      <td>0</td>\n",
       "      <td>...</td>\n",
       "      <td>65</td>\n",
       "      <td>0</td>\n",
       "      <td>7</td>\n",
       "      <td>Corporate Auto</td>\n",
       "      <td>Corporate L2</td>\n",
       "      <td>Offer1</td>\n",
       "      <td>Call Center</td>\n",
       "      <td>529.881344</td>\n",
       "      <td>SUV</td>\n",
       "      <td>Medsize</td>\n",
       "    </tr>\n",
       "    <tr>\n",
       "      <th>4</th>\n",
       "      <td>HB64268</td>\n",
       "      <td>Washington</td>\n",
       "      <td>2813.692575</td>\n",
       "      <td>No</td>\n",
       "      <td>Basic</td>\n",
       "      <td>Bachelor</td>\n",
       "      <td>2/3/11</td>\n",
       "      <td>Employed</td>\n",
       "      <td>M</td>\n",
       "      <td>43836</td>\n",
       "      <td>...</td>\n",
       "      <td>44</td>\n",
       "      <td>0</td>\n",
       "      <td>1</td>\n",
       "      <td>Personal Auto</td>\n",
       "      <td>Personal L1</td>\n",
       "      <td>Offer1</td>\n",
       "      <td>Agent</td>\n",
       "      <td>138.130879</td>\n",
       "      <td>Four-Door Car</td>\n",
       "      <td>Medsize</td>\n",
       "    </tr>\n",
       "    <tr>\n",
       "      <th>5</th>\n",
       "      <td>OC83172</td>\n",
       "      <td>Oregon</td>\n",
       "      <td>8256.297800</td>\n",
       "      <td>Yes</td>\n",
       "      <td>Basic</td>\n",
       "      <td>Bachelor</td>\n",
       "      <td>1/25/11</td>\n",
       "      <td>Employed</td>\n",
       "      <td>F</td>\n",
       "      <td>62902</td>\n",
       "      <td>...</td>\n",
       "      <td>94</td>\n",
       "      <td>0</td>\n",
       "      <td>2</td>\n",
       "      <td>Personal Auto</td>\n",
       "      <td>Personal L3</td>\n",
       "      <td>Offer2</td>\n",
       "      <td>Web</td>\n",
       "      <td>159.383042</td>\n",
       "      <td>Two-Door Car</td>\n",
       "      <td>Medsize</td>\n",
       "    </tr>\n",
       "  </tbody>\n",
       "</table>\n",
       "<p>5 rows × 24 columns</p>\n",
       "</div>"
      ],
      "text/plain": [
       "  Customer       State  Customer Lifetime Value Response Coverage Education  \\\n",
       "0  BU79786  Washington              2763.519279       No    Basic  Bachelor   \n",
       "2  AI49188      Nevada             12887.431650       No  Premium  Bachelor   \n",
       "3  WW63253  California              7645.861827       No    Basic  Bachelor   \n",
       "4  HB64268  Washington              2813.692575       No    Basic  Bachelor   \n",
       "5  OC83172      Oregon              8256.297800      Yes    Basic  Bachelor   \n",
       "\n",
       "  Effective To Date EmploymentStatus Gender  Income  ...  \\\n",
       "0           2/24/11         Employed      F   56274  ...   \n",
       "2           2/19/11         Employed      F   48767  ...   \n",
       "3           1/20/11       Unemployed      M       0  ...   \n",
       "4            2/3/11         Employed      M   43836  ...   \n",
       "5           1/25/11         Employed      F   62902  ...   \n",
       "\n",
       "  Months Since Policy Inception Number of Open Complaints  Number of Policies  \\\n",
       "0                             5                         0                   1   \n",
       "2                            38                         0                   2   \n",
       "3                            65                         0                   7   \n",
       "4                            44                         0                   1   \n",
       "5                            94                         0                   2   \n",
       "\n",
       "      Policy Type        Policy  Renew Offer Type  Sales Channel  \\\n",
       "0  Corporate Auto  Corporate L3            Offer1          Agent   \n",
       "2   Personal Auto   Personal L3            Offer1          Agent   \n",
       "3  Corporate Auto  Corporate L2            Offer1    Call Center   \n",
       "4   Personal Auto   Personal L1            Offer1          Agent   \n",
       "5   Personal Auto   Personal L3            Offer2            Web   \n",
       "\n",
       "  Total Claim Amount  Vehicle Class Vehicle Size  \n",
       "0         384.811147   Two-Door Car      Medsize  \n",
       "2         566.472247   Two-Door Car      Medsize  \n",
       "3         529.881344            SUV      Medsize  \n",
       "4         138.130879  Four-Door Car      Medsize  \n",
       "5         159.383042   Two-Door Car      Medsize  \n",
       "\n",
       "[5 rows x 24 columns]"
      ]
     },
     "execution_count": 50,
     "metadata": {},
     "output_type": "execute_result"
    }
   ],
   "source": [
    "df_wrangling.head()"
   ]
  },
  {
   "cell_type": "markdown",
   "metadata": {},
   "source": [
    "### 3. Normalize the continuous variables. You can use any one method you want."
   ]
  },
  {
   "cell_type": "code",
   "execution_count": 51,
   "metadata": {},
   "outputs": [],
   "source": [
    "from sklearn.preprocessing import Normalizer\n",
    "\n",
    "# Select only numeric columns\n",
    "numeric_columns = df_wrangling.select_dtypes(include=['int64', 'float64']).columns\n",
    "\n",
    "# Instantiate the Normalizer\n",
    "norm = Normalizer()\n",
    "\n",
    "# Apply normalization to numeric columns\n",
    "df_wrangling[numeric_columns] = norm.fit_transform(df_wrangling[numeric_columns])\n"
   ]
  },
  {
   "cell_type": "markdown",
   "metadata": {},
   "source": [
    "### 4. Encode the categorical variables"
   ]
  },
  {
   "cell_type": "code",
   "execution_count": 52,
   "metadata": {},
   "outputs": [
    {
     "data": {
      "text/plain": [
       "Index(['Customer', 'State', 'Customer Lifetime Value', 'Response', 'Coverage',\n",
       "       'Education', 'Effective To Date', 'EmploymentStatus', 'Gender',\n",
       "       'Income', 'Location Code', 'Marital Status', 'Monthly Premium Auto',\n",
       "       'Months Since Last Claim', 'Months Since Policy Inception',\n",
       "       'Number of Open Complaints', 'Number of Policies', 'Policy Type',\n",
       "       'Policy', 'Renew Offer Type', 'Sales Channel', 'Total Claim Amount',\n",
       "       'Vehicle Class', 'Vehicle Size'],\n",
       "      dtype='object')"
      ]
     },
     "execution_count": 52,
     "metadata": {},
     "output_type": "execute_result"
    }
   ],
   "source": [
    "# One hot to state\n",
    "# Ordinal to coverage\n",
    "# Ordinal to employmentstatus\n",
    "# Ordinal to location code\n",
    "# One hot to marital status\n",
    "# One hot to policy type\n",
    "# One hot to policy\n",
    "# One hot to renew offercustomer_df\n",
    "# One hot to sales channel\n",
    "# One hot vehicle class\n",
    "# Ordinal vehicle size\n",
    "\n",
    "\n",
    "df_wrangling.columns"
   ]
  },
  {
   "cell_type": "code",
   "execution_count": 53,
   "metadata": {},
   "outputs": [],
   "source": [
    "categoricals = customer_df.select_dtypes('object')"
   ]
  },
  {
   "cell_type": "code",
   "execution_count": 54,
   "metadata": {},
   "outputs": [],
   "source": [
    "categoricals = categoricals.drop(['Customer', 'Effective To Date'], axis =1)"
   ]
  },
  {
   "cell_type": "code",
   "execution_count": 55,
   "metadata": {},
   "outputs": [
    {
     "data": {
      "text/plain": [
       "Index(['State', 'Response', 'Coverage', 'Education', 'EmploymentStatus',\n",
       "       'Gender', 'Location Code', 'Marital Status', 'Policy Type', 'Policy',\n",
       "       'Renew Offer Type', 'Sales Channel', 'Vehicle Class', 'Vehicle Size'],\n",
       "      dtype='object')"
      ]
     },
     "execution_count": 55,
     "metadata": {},
     "output_type": "execute_result"
    }
   ],
   "source": [
    "categoricals.columns"
   ]
  },
  {
   "cell_type": "code",
   "execution_count": 56,
   "metadata": {},
   "outputs": [],
   "source": [
    "from sklearn.preprocessing import OrdinalEncoder, OneHotEncoder\n",
    "\n",
    "# Select columns for ordinal encoding\n",
    "ordinal_cols = ['Coverage', 'EmploymentStatus', 'Location Code', 'Vehicle Size']\n",
    "\n",
    "# Instantiate the OrdinalEncoder\n",
    "ordinal_enc = OrdinalEncoder()\n",
    "\n",
    "# Apply ordinal encoding to selected columns\n",
    "df_wrangling[ordinal_cols] = ordinal_enc.fit_transform(df_wrangling[ordinal_cols])\n",
    "\n",
    "\n",
    "# Select columns for one-hot encoding\n",
    "one_hot_cols = ['State', 'Marital Status', 'Policy Type', 'Policy', 'Renew Offer Type', 'Sales Channel', 'Vehicle Class']\n",
    "\n",
    "# Apply one-hot encoding to selected columns\n",
    "df_wrangling = pd.get_dummies(df_wrangling, columns=one_hot_cols)\n"
   ]
  },
  {
   "cell_type": "markdown",
   "metadata": {},
   "source": [
    "### 5. The time variable can be useful. Try to transform its data into a useful one. Hint: Day week and month as integers might be useful."
   ]
  },
  {
   "cell_type": "code",
   "execution_count": 57,
   "metadata": {},
   "outputs": [],
   "source": [
    "# Convert your 'Effective To Date' column to datetime if not already done\n",
    "df_wrangling['Effective To Date'] = pd.to_datetime(df_wrangling['Effective To Date'], format='%m/%d/%y')\n",
    "\n",
    "# Create 'Year' column\n",
    "df_wrangling['Year'] = df_wrangling['Effective To Date'].dt.year\n",
    "\n",
    "# Create 'Month' column\n",
    "df_wrangling['Month'] = df_wrangling['Effective To Date'].dt.month_name()\n",
    "\n",
    "# Create 'Day of Week' column\n",
    "df_wrangling['Day of Week'] = df_wrangling['Effective To Date'].dt.day_name()"
   ]
  },
  {
   "cell_type": "code",
   "execution_count": 58,
   "metadata": {},
   "outputs": [
    {
     "data": {
      "text/plain": [
       "Index(['Customer', 'Customer Lifetime Value', 'Response', 'Coverage',\n",
       "       'Education', 'Effective To Date', 'EmploymentStatus', 'Gender',\n",
       "       'Income', 'Location Code', 'Monthly Premium Auto',\n",
       "       'Months Since Last Claim', 'Months Since Policy Inception',\n",
       "       'Number of Open Complaints', 'Number of Policies', 'Total Claim Amount',\n",
       "       'Vehicle Size', 'State_Arizona', 'State_California', 'State_Nevada',\n",
       "       'State_Oregon', 'State_Washington', 'Marital Status_Divorced',\n",
       "       'Marital Status_Married', 'Marital Status_Single',\n",
       "       'Policy Type_Corporate Auto', 'Policy Type_Personal Auto',\n",
       "       'Policy Type_Special Auto', 'Policy_Corporate L1',\n",
       "       'Policy_Corporate L2', 'Policy_Corporate L3', 'Policy_Personal L1',\n",
       "       'Policy_Personal L2', 'Policy_Personal L3', 'Policy_Special L1',\n",
       "       'Policy_Special L2', 'Policy_Special L3', 'Renew Offer Type_Offer1',\n",
       "       'Renew Offer Type_Offer2', 'Renew Offer Type_Offer3',\n",
       "       'Renew Offer Type_Offer4', 'Sales Channel_Agent',\n",
       "       'Sales Channel_Branch', 'Sales Channel_Call Center',\n",
       "       'Sales Channel_Web', 'Vehicle Class_Four-Door Car', 'Vehicle Class_SUV',\n",
       "       'Vehicle Class_Sports Car', 'Vehicle Class_Two-Door Car', 'Year',\n",
       "       'Month', 'Day of Week'],\n",
       "      dtype='object')"
      ]
     },
     "execution_count": 58,
     "metadata": {},
     "output_type": "execute_result"
    }
   ],
   "source": [
    "df_wrangling.columns"
   ]
  },
  {
   "cell_type": "markdown",
   "metadata": {},
   "source": [
    "### 6. Since the model will only accept numerical data, check and make sure that every column is numerical, if some are not, change it using encoding."
   ]
  },
  {
   "cell_type": "code",
   "execution_count": 59,
   "metadata": {},
   "outputs": [
    {
     "data": {
      "text/plain": [
       "Customer                                 object\n",
       "Customer Lifetime Value                 float64\n",
       "Response                                 object\n",
       "Coverage                                float64\n",
       "Education                                object\n",
       "Effective To Date                datetime64[ns]\n",
       "EmploymentStatus                        float64\n",
       "Gender                                   object\n",
       "Income                                  float64\n",
       "Location Code                           float64\n",
       "Monthly Premium Auto                    float64\n",
       "Months Since Last Claim                 float64\n",
       "Months Since Policy Inception           float64\n",
       "Number of Open Complaints               float64\n",
       "Number of Policies                      float64\n",
       "Total Claim Amount                      float64\n",
       "Vehicle Size                            float64\n",
       "State_Arizona                             uint8\n",
       "State_California                          uint8\n",
       "State_Nevada                              uint8\n",
       "State_Oregon                              uint8\n",
       "State_Washington                          uint8\n",
       "Marital Status_Divorced                   uint8\n",
       "Marital Status_Married                    uint8\n",
       "Marital Status_Single                     uint8\n",
       "Policy Type_Corporate Auto                uint8\n",
       "Policy Type_Personal Auto                 uint8\n",
       "Policy Type_Special Auto                  uint8\n",
       "Policy_Corporate L1                       uint8\n",
       "Policy_Corporate L2                       uint8\n",
       "Policy_Corporate L3                       uint8\n",
       "Policy_Personal L1                        uint8\n",
       "Policy_Personal L2                        uint8\n",
       "Policy_Personal L3                        uint8\n",
       "Policy_Special L1                         uint8\n",
       "Policy_Special L2                         uint8\n",
       "Policy_Special L3                         uint8\n",
       "Renew Offer Type_Offer1                   uint8\n",
       "Renew Offer Type_Offer2                   uint8\n",
       "Renew Offer Type_Offer3                   uint8\n",
       "Renew Offer Type_Offer4                   uint8\n",
       "Sales Channel_Agent                       uint8\n",
       "Sales Channel_Branch                      uint8\n",
       "Sales Channel_Call Center                 uint8\n",
       "Sales Channel_Web                         uint8\n",
       "Vehicle Class_Four-Door Car               uint8\n",
       "Vehicle Class_SUV                         uint8\n",
       "Vehicle Class_Sports Car                  uint8\n",
       "Vehicle Class_Two-Door Car                uint8\n",
       "Year                                      int64\n",
       "Month                                    object\n",
       "Day of Week                              object\n",
       "dtype: object"
      ]
     },
     "execution_count": 59,
     "metadata": {},
     "output_type": "execute_result"
    }
   ],
   "source": [
    "df_wrangling.dtypes"
   ]
  },
  {
   "cell_type": "code",
   "execution_count": 60,
   "metadata": {},
   "outputs": [],
   "source": [
    "df_wrangling=df_wrangling.drop(['Customer','Response','Education','Effective To Date','Gender'], axis=1)"
   ]
  },
  {
   "cell_type": "code",
   "execution_count": 61,
   "metadata": {},
   "outputs": [],
   "source": [
    "df_wrangling = pd.get_dummies(df_wrangling, columns=['Month','Day of Week'])"
   ]
  },
  {
   "cell_type": "code",
   "execution_count": 62,
   "metadata": {},
   "outputs": [
    {
     "data": {
      "text/plain": [
       "Customer Lifetime Value          float64\n",
       "Coverage                         float64\n",
       "EmploymentStatus                 float64\n",
       "Income                           float64\n",
       "Location Code                    float64\n",
       "Monthly Premium Auto             float64\n",
       "Months Since Last Claim          float64\n",
       "Months Since Policy Inception    float64\n",
       "Number of Open Complaints        float64\n",
       "Number of Policies               float64\n",
       "Total Claim Amount               float64\n",
       "Vehicle Size                     float64\n",
       "State_Arizona                      uint8\n",
       "State_California                   uint8\n",
       "State_Nevada                       uint8\n",
       "State_Oregon                       uint8\n",
       "State_Washington                   uint8\n",
       "Marital Status_Divorced            uint8\n",
       "Marital Status_Married             uint8\n",
       "Marital Status_Single              uint8\n",
       "Policy Type_Corporate Auto         uint8\n",
       "Policy Type_Personal Auto          uint8\n",
       "Policy Type_Special Auto           uint8\n",
       "Policy_Corporate L1                uint8\n",
       "Policy_Corporate L2                uint8\n",
       "Policy_Corporate L3                uint8\n",
       "Policy_Personal L1                 uint8\n",
       "Policy_Personal L2                 uint8\n",
       "Policy_Personal L3                 uint8\n",
       "Policy_Special L1                  uint8\n",
       "Policy_Special L2                  uint8\n",
       "Policy_Special L3                  uint8\n",
       "Renew Offer Type_Offer1            uint8\n",
       "Renew Offer Type_Offer2            uint8\n",
       "Renew Offer Type_Offer3            uint8\n",
       "Renew Offer Type_Offer4            uint8\n",
       "Sales Channel_Agent                uint8\n",
       "Sales Channel_Branch               uint8\n",
       "Sales Channel_Call Center          uint8\n",
       "Sales Channel_Web                  uint8\n",
       "Vehicle Class_Four-Door Car        uint8\n",
       "Vehicle Class_SUV                  uint8\n",
       "Vehicle Class_Sports Car           uint8\n",
       "Vehicle Class_Two-Door Car         uint8\n",
       "Year                               int64\n",
       "Month_February                     uint8\n",
       "Month_January                      uint8\n",
       "Day of Week_Friday                 uint8\n",
       "Day of Week_Monday                 uint8\n",
       "Day of Week_Saturday               uint8\n",
       "Day of Week_Sunday                 uint8\n",
       "Day of Week_Thursday               uint8\n",
       "Day of Week_Tuesday                uint8\n",
       "Day of Week_Wednesday              uint8\n",
       "dtype: object"
      ]
     },
     "execution_count": 62,
     "metadata": {},
     "output_type": "execute_result"
    }
   ],
   "source": [
    "df_wrangling.dtypes"
   ]
  },
  {
   "cell_type": "code",
   "execution_count": null,
   "metadata": {},
   "outputs": [],
   "source": []
  }
 ],
 "metadata": {
  "kernelspec": {
   "display_name": "Python 3",
   "language": "python",
   "name": "python3"
  },
  "language_info": {
   "codemirror_mode": {
    "name": "ipython",
    "version": 3
   },
   "file_extension": ".py",
   "mimetype": "text/x-python",
   "name": "python",
   "nbconvert_exporter": "python",
   "pygments_lexer": "ipython3",
   "version": "3.7.4"
  }
 },
 "nbformat": 4,
 "nbformat_minor": 2
}
